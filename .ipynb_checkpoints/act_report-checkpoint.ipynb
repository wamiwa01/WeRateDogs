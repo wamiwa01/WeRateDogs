{
 "cells": [
  {
   "cell_type": "markdown",
   "metadata": {},
   "source": [
    "## Report: Report for weratedogs udacity project\n",
    "### Analysis and Visuaization by Adeoluwa Olawamiwa\n",
    "### Catch Phrase: They're Good Dogs Brent\n",
    "### Introduction\n",
    "\n",
    "This is a analysis report on a twitter page  weratedogs. The Twitter account We Rate Dogs (@dog_rates) is devoted to humorously reviewing pictures of dogs doing adorable poses, often giving them scores above 10/10. It has acquired more than 7 million followers since its debut. Some numerators mostly 10 but not limited as a score rate but some score rates are higher than the denominator of 10 as dogs that surpasses the score rate \"as They're Good Dogs\" and there are some tweets with multiple dogs.\n",
    "Data Origin for this analysis are downloaded manually and programmatically from \n",
    "- Excel\n",
    "- Udacity Server \n",
    "- Twitter API\n",
    "\n",
    "\n",
    "WeRateDogs downloaded their Twitter archive and sent it to Udacity via email exclusively to be used in this project. This archive contains basic tweet data (tweet ID, timestamp, text, etc.) for all 5000+ of their tweets as they stood on August 1, 2017.\n",
    "\n",
    "Tweepy package for twitter API was used to collect the current status (retweet and favorite status) for the provided tweet IDs. At this stage, it is important to acknowledge that twitter enabled me a developer account and provided me with needed keys to use twitter APIs. A software was used to predict the dog breed in the tweets. The predictions were supplied in a separate data file.\n",
    "\n",
    "\n"
   ]
  },
  {
   "cell_type": "markdown",
   "metadata": {},
   "source": [
    "This report will answer the following questions\n",
    "\n",
    "- 1.What is the Top tweet source?\n",
    "\n",
    "- 2.What are the most Common Dog names?.\n",
    "\n",
    "- 3.What are the most common prominent dog Stages?"
   ]
  },
  {
   "cell_type": "markdown",
   "metadata": {},
   "source": [
    "**1)** What is the Top tweet source?\n",
    "\n",
    "\n",
    "The most means of tweeting in the analysis in the year 2017 was with IPhone which has the highest percentage followed by vine. Tweetdeck is the least means of tweeting with Twitter for web leading with more than 1 percentage"
   ]
  },
  {
   "cell_type": "markdown",
   "metadata": {},
   "source": [
    "![](python1.png)"
   ]
  },
  {
   "cell_type": "markdown",
   "metadata": {},
   "source": [
    "**2)** What are the most common dog names?\n",
    "\n",
    "Charlie, Cooper and Oliver has the most common names out of all the dogs ever posted on WeRateDogs twitter page in the year 2017 as at the time of this analysis"
   ]
  },
  {
   "cell_type": "markdown",
   "metadata": {},
   "source": [
    "![](python2.png)"
   ]
  },
  {
   "cell_type": "markdown",
   "metadata": {},
   "source": [
    "**3)** What are the most common prominent dog Stage?\n",
    "\n",
    "It is no doubt that puppers are the most common dog state posted by WeRateDogs on their twitter page for this analysis period. Next are the Doggo then followed by Puppo. In this analysis, we can see we have multiple dog stages Doggo|Pupper, Doggo|Floofer, and Doggo|Puppo."
   ]
  },
  {
   "cell_type": "markdown",
   "metadata": {},
   "source": [
    "![](python3.png)"
   ]
  },
  {
   "cell_type": "code",
   "execution_count": null,
   "metadata": {},
   "outputs": [],
   "source": []
  }
 ],
 "metadata": {
  "kernelspec": {
   "display_name": "Python 3",
   "language": "python",
   "name": "python3"
  },
  "language_info": {
   "codemirror_mode": {
    "name": "ipython",
    "version": 3
   },
   "file_extension": ".py",
   "mimetype": "text/x-python",
   "name": "python",
   "nbconvert_exporter": "python",
   "pygments_lexer": "ipython3",
   "version": "3.6.3"
  }
 },
 "nbformat": 4,
 "nbformat_minor": 2
}
